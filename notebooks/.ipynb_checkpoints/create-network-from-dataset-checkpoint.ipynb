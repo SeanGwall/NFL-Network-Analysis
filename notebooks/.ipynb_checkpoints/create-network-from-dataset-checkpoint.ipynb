{
 "cells": [
  {
   "cell_type": "markdown",
   "id": "a6fea9eb-2307-4590-a7d9-d913467170df",
   "metadata": {},
   "source": [
    "## Import Modules and Read Data"
   ]
  },
  {
   "cell_type": "code",
   "execution_count": 1,
   "id": "28c1e3d4-9cc9-4d35-b4a7-73abbb3fbfd4",
   "metadata": {},
   "outputs": [
    {
     "name": "stdout",
     "output_type": "stream",
     "text": [
      "Index(['season', 'season_type', 'player_id', 'player_name',\n",
      "       'player_display_name', 'position', 'position_group', 'headshot_url',\n",
      "       'games', 'recent_team', 'completions', 'attempts', 'passing_yards',\n",
      "       'passing_tds', 'interceptions', 'sacks', 'sack_yards', 'sack_fumbles',\n",
      "       'sack_fumbles_lost', 'passing_air_yards', 'passing_yards_after_catch',\n",
      "       'passing_first_downs', 'passing_epa', 'passing_2pt_conversions', 'pacr',\n",
      "       'dakota', 'carries', 'rushing_yards', 'rushing_tds', 'rushing_fumbles',\n",
      "       'rushing_fumbles_lost', 'rushing_first_downs', 'rushing_epa',\n",
      "       'rushing_2pt_conversions', 'receptions', 'targets', 'receiving_yards',\n",
      "       'receiving_tds', 'receiving_fumbles', 'receiving_fumbles_lost',\n",
      "       'receiving_air_yards', 'receiving_yards_after_catch',\n",
      "       'receiving_first_downs', 'receiving_epa', 'receiving_2pt_conversions',\n",
      "       'racr', 'target_share', 'air_yards_share', 'wopr', 'special_teams_tds',\n",
      "       'fantasy_points', 'fantasy_points_ppr'],\n",
      "      dtype='object') \n",
      "\n",
      "Index(['status', 'display_name', 'first_name', 'last_name', 'esb_id',\n",
      "       'gsis_id', 'birth_date', 'college_name', 'position_group', 'position',\n",
      "       'jersey_number', 'height', 'weight', 'years_of_experience', 'team_abbr',\n",
      "       'team_seq', 'current_team_id', 'football_name', 'entry_year',\n",
      "       'rookie_year', 'draft_club', 'college_conference',\n",
      "       'status_description_abbr', 'status_short_description', 'gsis_it_id',\n",
      "       'short_name', 'smart_id', 'headshot', 'draft_number', 'draftround',\n",
      "       'uniform_number', 'suffix'],\n",
      "      dtype='object')\n"
     ]
    }
   ],
   "source": [
    "import pandas\n",
    "from collections import defaultdict\n",
    "\n",
    "stats_dataset_path = \"../data/player_stats_season.csv\"\n",
    "players_dataset_path = \"../data/players.csv\"\n",
    "stats_df = pandas.read_csv(stats_dataset_path)\n",
    "players_df = pandas.read_csv(players_dataset_path)\n",
    "\n",
    "node_list_output_path = \"../data/gephi-node-list.csv\"\n",
    "edge_list_output_path = \"../data/gephi-edge-list.csv\"\n",
    "\n",
    "print(stats_df.columns, \"\\n\")\n",
    "print(players_df.columns)"
   ]
  },
  {
   "cell_type": "markdown",
   "id": "72151e56-5051-48f6-9231-bc5481646a7a",
   "metadata": {},
   "source": [
    "## Clean Data"
   ]
  },
  {
   "cell_type": "code",
   "execution_count": 2,
   "id": "3f8626a7-82f9-46e6-aa85-e12191962b03",
   "metadata": {},
   "outputs": [],
   "source": [
    "stats_df = stats_df[stats_df[\"season_type\"] == \"REG+POST\"]"
   ]
  },
  {
   "cell_type": "code",
   "execution_count": 3,
   "id": "a0945ea2-bf54-41d0-96e2-90635f7a19a5",
   "metadata": {},
   "outputs": [],
   "source": [
    "colleges_df = players_df[[\"gsis_id\", \"college_name\", \"college_conference\"]]\n",
    "colleges_df = colleges_df.rename(columns={\"gsis_id\": \"player_id\"})"
   ]
  },
  {
   "cell_type": "code",
   "execution_count": 4,
   "id": "d6358812-a348-423e-a801-ad7b1acae4c1",
   "metadata": {},
   "outputs": [],
   "source": [
    "merged_df = pandas.merge(stats_df, colleges_df, on=\"player_id\")"
   ]
  },
  {
   "cell_type": "code",
   "execution_count": 5,
   "id": "cf53a101-6549-4ab6-abd7-fca726b1a4ca",
   "metadata": {},
   "outputs": [
    {
     "name": "stdout",
     "output_type": "stream",
     "text": [
      "Number of players: 1962\n"
     ]
    }
   ],
   "source": [
    "columns = [\"player_id\", \"player_display_name\", \"season\", \"recent_team\", \"position\", \n",
    "           \"college_name\", \"college_conference\", \"fantasy_points\"]\n",
    "\n",
    "data = merged_df[columns]\n",
    "data = data.dropna()\n",
    "print(\"Number of players:\", data[\"player_id\"].nunique())"
   ]
  },
  {
   "cell_type": "markdown",
   "id": "d207931f-d7bb-4300-bc7f-602492459af4",
   "metadata": {},
   "source": [
    "## Create Node List"
   ]
  },
  {
   "cell_type": "code",
   "execution_count": 6,
   "id": "7b91ffc1-83b4-49c3-a1cd-eb79e97416cb",
   "metadata": {},
   "outputs": [],
   "source": [
    "node_list_df = data.drop_duplicates(subset=\"player_id\", keep=\"last\")"
   ]
  },
  {
   "cell_type": "code",
   "execution_count": 7,
   "id": "6784caf9-8d2a-41b8-9d7b-d6df259e3ed2",
   "metadata": {},
   "outputs": [],
   "source": [
    "total_fantasy_points = defaultdict(int)\n",
    "for index, row in data.iterrows():\n",
    "    total_fantasy_points[row.player_id] += row.fantasy_points\n",
    "    \n",
    "for key, value in total_fantasy_points.items():\n",
    "    index = node_list_df[node_list_df[\"player_id\"] == key].index\n",
    "    node_list_df.loc[index, \"fantasy_points\"] = int(value)"
   ]
  },
  {
   "cell_type": "code",
   "execution_count": 8,
   "id": "8483e3f8-3a97-4086-b63b-3e0fb02bfa37",
   "metadata": {},
   "outputs": [
    {
     "data": {
      "text/html": [
       "<div>\n",
       "<style scoped>\n",
       "    .dataframe tbody tr th:only-of-type {\n",
       "        vertical-align: middle;\n",
       "    }\n",
       "\n",
       "    .dataframe tbody tr th {\n",
       "        vertical-align: top;\n",
       "    }\n",
       "\n",
       "    .dataframe thead th {\n",
       "        text-align: right;\n",
       "    }\n",
       "</style>\n",
       "<table border=\"1\" class=\"dataframe\">\n",
       "  <thead>\n",
       "    <tr style=\"text-align: right;\">\n",
       "      <th></th>\n",
       "      <th>ID</th>\n",
       "      <th>name</th>\n",
       "      <th>team</th>\n",
       "      <th>position</th>\n",
       "      <th>college_name</th>\n",
       "      <th>college_conference</th>\n",
       "      <th>fantasy_points</th>\n",
       "    </tr>\n",
       "  </thead>\n",
       "  <tbody>\n",
       "    <tr>\n",
       "      <th>2949</th>\n",
       "      <td>00-0016919</td>\n",
       "      <td>Adam Vinatieri</td>\n",
       "      <td>NE</td>\n",
       "      <td>K</td>\n",
       "      <td>South Dakota State</td>\n",
       "      <td>Missouri Valley Football Conference</td>\n",
       "      <td>4.0</td>\n",
       "    </tr>\n",
       "    <tr>\n",
       "      <th>3746</th>\n",
       "      <td>00-0022531</td>\n",
       "      <td>Jason Peters</td>\n",
       "      <td>BUF</td>\n",
       "      <td>T</td>\n",
       "      <td>Arkansas</td>\n",
       "      <td>Southeastern Conference</td>\n",
       "      <td>12.0</td>\n",
       "    </tr>\n",
       "    <tr>\n",
       "      <th>4177</th>\n",
       "      <td>00-0022045</td>\n",
       "      <td>Terence Newman</td>\n",
       "      <td>DAL</td>\n",
       "      <td>CB</td>\n",
       "      <td>Kansas State</td>\n",
       "      <td>Big Twelve Conference</td>\n",
       "      <td>6.0</td>\n",
       "    </tr>\n",
       "    <tr>\n",
       "      <th>4266</th>\n",
       "      <td>00-0022923</td>\n",
       "      <td>DeAngelo Hall</td>\n",
       "      <td>ATL</td>\n",
       "      <td>FS</td>\n",
       "      <td>Virginia Tech</td>\n",
       "      <td>Atlantic Coast Conference</td>\n",
       "      <td>0.0</td>\n",
       "    </tr>\n",
       "    <tr>\n",
       "      <th>4755</th>\n",
       "      <td>00-0023252</td>\n",
       "      <td>Robbie Gould</td>\n",
       "      <td>CHI</td>\n",
       "      <td>K</td>\n",
       "      <td>Penn State</td>\n",
       "      <td>Big Ten Conference</td>\n",
       "      <td>0.0</td>\n",
       "    </tr>\n",
       "    <tr>\n",
       "      <th>...</th>\n",
       "      <td>...</td>\n",
       "      <td>...</td>\n",
       "      <td>...</td>\n",
       "      <td>...</td>\n",
       "      <td>...</td>\n",
       "      <td>...</td>\n",
       "      <td>...</td>\n",
       "    </tr>\n",
       "    <tr>\n",
       "      <th>15166</th>\n",
       "      <td>00-0039917</td>\n",
       "      <td>Michael Penix</td>\n",
       "      <td>ATL</td>\n",
       "      <td>QB</td>\n",
       "      <td>Washington</td>\n",
       "      <td>Pacific Twelve Conference</td>\n",
       "      <td>44.0</td>\n",
       "    </tr>\n",
       "    <tr>\n",
       "      <th>15167</th>\n",
       "      <td>00-0039918</td>\n",
       "      <td>Caleb Williams</td>\n",
       "      <td>CHI</td>\n",
       "      <td>QB</td>\n",
       "      <td>Southern California</td>\n",
       "      <td>Pacific Twelve Conference</td>\n",
       "      <td>254.0</td>\n",
       "    </tr>\n",
       "    <tr>\n",
       "      <th>15168</th>\n",
       "      <td>00-0039919</td>\n",
       "      <td>Rome Odunze</td>\n",
       "      <td>CHI</td>\n",
       "      <td>WR</td>\n",
       "      <td>Washington</td>\n",
       "      <td>Pacific Twelve Conference</td>\n",
       "      <td>90.0</td>\n",
       "    </tr>\n",
       "    <tr>\n",
       "      <th>15169</th>\n",
       "      <td>00-0039920</td>\n",
       "      <td>Malachi Corley</td>\n",
       "      <td>NYJ</td>\n",
       "      <td>WR</td>\n",
       "      <td>Western Kentucky</td>\n",
       "      <td>Conference USA</td>\n",
       "      <td>4.0</td>\n",
       "    </tr>\n",
       "    <tr>\n",
       "      <th>15170</th>\n",
       "      <td>00-0039921</td>\n",
       "      <td>Trey Benson</td>\n",
       "      <td>ARI</td>\n",
       "      <td>RB</td>\n",
       "      <td>Florida State</td>\n",
       "      <td>Atlantic Coast Conference</td>\n",
       "      <td>41.0</td>\n",
       "    </tr>\n",
       "  </tbody>\n",
       "</table>\n",
       "<p>1962 rows × 7 columns</p>\n",
       "</div>"
      ],
      "text/plain": [
       "               ID            name team position         college_name  \\\n",
       "2949   00-0016919  Adam Vinatieri   NE        K   South Dakota State   \n",
       "3746   00-0022531    Jason Peters  BUF        T             Arkansas   \n",
       "4177   00-0022045  Terence Newman  DAL       CB         Kansas State   \n",
       "4266   00-0022923   DeAngelo Hall  ATL       FS        Virginia Tech   \n",
       "4755   00-0023252    Robbie Gould  CHI        K           Penn State   \n",
       "...           ...             ...  ...      ...                  ...   \n",
       "15166  00-0039917   Michael Penix  ATL       QB           Washington   \n",
       "15167  00-0039918  Caleb Williams  CHI       QB  Southern California   \n",
       "15168  00-0039919     Rome Odunze  CHI       WR           Washington   \n",
       "15169  00-0039920  Malachi Corley  NYJ       WR     Western Kentucky   \n",
       "15170  00-0039921     Trey Benson  ARI       RB        Florida State   \n",
       "\n",
       "                        college_conference  fantasy_points  \n",
       "2949   Missouri Valley Football Conference             4.0  \n",
       "3746               Southeastern Conference            12.0  \n",
       "4177                 Big Twelve Conference             6.0  \n",
       "4266             Atlantic Coast Conference             0.0  \n",
       "4755                    Big Ten Conference             0.0  \n",
       "...                                    ...             ...  \n",
       "15166            Pacific Twelve Conference            44.0  \n",
       "15167            Pacific Twelve Conference           254.0  \n",
       "15168            Pacific Twelve Conference            90.0  \n",
       "15169                       Conference USA             4.0  \n",
       "15170            Atlantic Coast Conference            41.0  \n",
       "\n",
       "[1962 rows x 7 columns]"
      ]
     },
     "execution_count": 8,
     "metadata": {},
     "output_type": "execute_result"
    }
   ],
   "source": [
    "node_list_df = node_list_df.drop(\"season\", axis=1)\n",
    "node_list_df = node_list_df.rename(columns={\"player_id\": \"ID\", \"player_display_name\": \"name\", \"recent_team\": \"team\"})\n",
    "node_list_df"
   ]
  },
  {
   "cell_type": "code",
   "execution_count": 9,
   "id": "fe77532d-9f57-4dca-bb28-a2b5077bad08",
   "metadata": {},
   "outputs": [],
   "source": [
    "node_list_df.to_csv(node_list_output_path, index=False)"
   ]
  },
  {
   "cell_type": "markdown",
   "id": "8f110c36-7ca3-43ca-abdf-e20703f41e28",
   "metadata": {},
   "source": [
    "## Create Edge list"
   ]
  },
  {
   "cell_type": "code",
   "execution_count": 10,
   "id": "0428cb0d-acc0-4536-8846-38b1fbe9af2a",
   "metadata": {},
   "outputs": [],
   "source": [
    "teams = defaultdict(list)\n",
    "for index, row in data.iterrows():\n",
    "    team = (row.recent_team, row.season)\n",
    "    teams[team].append(row.player_id)"
   ]
  },
  {
   "cell_type": "code",
   "execution_count": 11,
   "id": "f8e34add-4e22-40d2-8044-24919c2ef4ba",
   "metadata": {},
   "outputs": [],
   "source": [
    "edges = defaultdict(int)\n",
    "for team, players in teams.items():\n",
    "    players.sort()\n",
    "    for i in range(len(players)):\n",
    "        for j in range(i+1, len(players)):\n",
    "            edge = (players[i], players[j])\n",
    "            edges[edge] += 1"
   ]
  },
  {
   "cell_type": "code",
   "execution_count": 12,
   "id": "756b948b-64ae-4bdb-850d-920483e2d8b5",
   "metadata": {
    "scrolled": true
   },
   "outputs": [
    {
     "data": {
      "text/html": [
       "<div>\n",
       "<style scoped>\n",
       "    .dataframe tbody tr th:only-of-type {\n",
       "        vertical-align: middle;\n",
       "    }\n",
       "\n",
       "    .dataframe tbody tr th {\n",
       "        vertical-align: top;\n",
       "    }\n",
       "\n",
       "    .dataframe thead th {\n",
       "        text-align: right;\n",
       "    }\n",
       "</style>\n",
       "<table border=\"1\" class=\"dataframe\">\n",
       "  <thead>\n",
       "    <tr style=\"text-align: right;\">\n",
       "      <th></th>\n",
       "      <th>Source</th>\n",
       "      <th>Target</th>\n",
       "      <th>Weight</th>\n",
       "    </tr>\n",
       "  </thead>\n",
       "  <tbody>\n",
       "    <tr>\n",
       "      <th>0</th>\n",
       "      <td>00-0020531</td>\n",
       "      <td>00-0021547</td>\n",
       "      <td>3</td>\n",
       "    </tr>\n",
       "    <tr>\n",
       "      <th>1</th>\n",
       "      <td>00-0021206</td>\n",
       "      <td>00-0022084</td>\n",
       "      <td>3</td>\n",
       "    </tr>\n",
       "    <tr>\n",
       "      <th>2</th>\n",
       "      <td>00-0016919</td>\n",
       "      <td>00-0019596</td>\n",
       "      <td>1</td>\n",
       "    </tr>\n",
       "    <tr>\n",
       "      <th>3</th>\n",
       "      <td>00-0016919</td>\n",
       "      <td>00-0022943</td>\n",
       "      <td>1</td>\n",
       "    </tr>\n",
       "    <tr>\n",
       "      <th>4</th>\n",
       "      <td>00-0019596</td>\n",
       "      <td>00-0022943</td>\n",
       "      <td>7</td>\n",
       "    </tr>\n",
       "    <tr>\n",
       "      <th>...</th>\n",
       "      <td>...</td>\n",
       "      <td>...</td>\n",
       "      <td>...</td>\n",
       "    </tr>\n",
       "    <tr>\n",
       "      <th>42753</th>\n",
       "      <td>00-0038797</td>\n",
       "      <td>00-0039811</td>\n",
       "      <td>1</td>\n",
       "    </tr>\n",
       "    <tr>\n",
       "      <th>42754</th>\n",
       "      <td>00-0038809</td>\n",
       "      <td>00-0039811</td>\n",
       "      <td>1</td>\n",
       "    </tr>\n",
       "    <tr>\n",
       "      <th>42755</th>\n",
       "      <td>00-0038996</td>\n",
       "      <td>00-0039811</td>\n",
       "      <td>1</td>\n",
       "    </tr>\n",
       "    <tr>\n",
       "      <th>42756</th>\n",
       "      <td>00-0039144</td>\n",
       "      <td>00-0039811</td>\n",
       "      <td>1</td>\n",
       "    </tr>\n",
       "    <tr>\n",
       "      <th>42757</th>\n",
       "      <td>00-0039146</td>\n",
       "      <td>00-0039811</td>\n",
       "      <td>1</td>\n",
       "    </tr>\n",
       "  </tbody>\n",
       "</table>\n",
       "<p>42758 rows × 3 columns</p>\n",
       "</div>"
      ],
      "text/plain": [
       "           Source      Target  Weight\n",
       "0      00-0020531  00-0021547       3\n",
       "1      00-0021206  00-0022084       3\n",
       "2      00-0016919  00-0019596       1\n",
       "3      00-0016919  00-0022943       1\n",
       "4      00-0019596  00-0022943       7\n",
       "...           ...         ...     ...\n",
       "42753  00-0038797  00-0039811       1\n",
       "42754  00-0038809  00-0039811       1\n",
       "42755  00-0038996  00-0039811       1\n",
       "42756  00-0039144  00-0039811       1\n",
       "42757  00-0039146  00-0039811       1\n",
       "\n",
       "[42758 rows x 3 columns]"
      ]
     },
     "execution_count": 12,
     "metadata": {},
     "output_type": "execute_result"
    }
   ],
   "source": [
    "edge_list = []\n",
    "for edge, weight in edges.items():\n",
    "    edge_list.append([edge[0], edge[1], weight])\n",
    "edge_list_df = pandas.DataFrame(edge_list, columns=[\"Source\", \"Target\", \"Weight\"])\n",
    "edge_list_df"
   ]
  },
  {
   "cell_type": "code",
   "execution_count": 13,
   "id": "a8fafc5f-693a-483d-a2d6-2ade784d5242",
   "metadata": {},
   "outputs": [],
   "source": [
    "edge_list_df.to_csv(edge_list_output_path, index=False)"
   ]
  }
 ],
 "metadata": {
  "kernelspec": {
   "display_name": "Python 3 (ipykernel)",
   "language": "python",
   "name": "python3"
  },
  "language_info": {
   "codemirror_mode": {
    "name": "ipython",
    "version": 3
   },
   "file_extension": ".py",
   "mimetype": "text/x-python",
   "name": "python",
   "nbconvert_exporter": "python",
   "pygments_lexer": "ipython3",
   "version": "3.12.9"
  }
 },
 "nbformat": 4,
 "nbformat_minor": 5
}
