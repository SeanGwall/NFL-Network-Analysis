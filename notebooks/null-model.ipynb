{
 "cells": [
  {
   "cell_type": "markdown",
   "id": "ca18f05f-7559-48fe-918c-4a09ae0e5bb0",
   "metadata": {},
   "source": [
    "# Null Models"
   ]
  },
  {
   "cell_type": "code",
   "id": "aef505d8-aebd-4b0a-aaa3-662e485f0542",
   "metadata": {
    "ExecuteTime": {
     "end_time": "2025-04-06T04:08:49.674590Z",
     "start_time": "2025-04-06T04:08:49.670230Z"
    }
   },
   "source": [
    "# Importing the required libraries\n",
    "\n",
    "import numpy as np\n",
    "import networkx as nx\n",
    "import matplotlib.pyplot as plt\n",
    "import matplotlib as mpl\n",
    "import matplotlib_inline\n",
    "import random\n",
    "import pandas as pd\n",
    "import pickle\n",
    "%matplotlib inline"
   ],
   "outputs": [],
   "execution_count": 23
  },
  {
   "cell_type": "code",
   "id": "2e92efbf-cfd9-49f7-8f29-f54b5d4f0466",
   "metadata": {
    "ExecuteTime": {
     "end_time": "2025-04-06T04:00:47.825973Z",
     "start_time": "2025-04-06T04:00:47.821864Z"
    }
   },
   "source": [
    "# change defaults to be less ugly\n",
    "mpl.rc('xtick', labelsize=14, color=\"#222222\") \n",
    "mpl.rc('ytick', labelsize=14, color=\"#222222\") \n",
    "mpl.rc('font', **{'family':'sans-serif','sans-serif':['Arial']})\n",
    "mpl.rc('font', size=16)\n",
    "mpl.rc('xtick.major', size=6, width=1)\n",
    "mpl.rc('xtick.minor', size=3, width=1)\n",
    "mpl.rc('ytick.major', size=6, width=1)\n",
    "mpl.rc('ytick.minor', size=3, width=1)\n",
    "mpl.rc('axes', linewidth=1, edgecolor=\"#222222\", labelcolor=\"#222222\")\n",
    "mpl.rc('text', usetex=False, color=\"#222222\")"
   ],
   "outputs": [],
   "execution_count": 5
  },
  {
   "cell_type": "code",
   "id": "9e301a1b-9caf-42f7-960a-564fb2c6ac09",
   "metadata": {
    "ExecuteTime": {
     "end_time": "2025-04-06T04:00:54.618145Z",
     "start_time": "2025-04-06T04:00:54.613147Z"
    }
   },
   "source": [
    "# Function Defintions\n",
    "\n",
    "# Function to plot a degree distribution graph (P(k) vs k graph)\n",
    "def plot_degree_dist(G):\n",
    "    \n",
    "    degrees = [G.degree(n) for n in G.nodes()]\n",
    "    kmin = min(degrees)\n",
    "    kmax = max(degrees)\n",
    "    \n",
    "    if kmin>0:\n",
    "        bin_edges = np.logspace(np.log10(kmin), np.log10(kmax)+1, num=20)\n",
    "    else:\n",
    "        bin_edges = np.logspace(0, np.log10(kmax)+1, num=20)\n",
    "    density, _ = np.histogram(degrees, bins=bin_edges, density=True)\n",
    "\n",
    "    fig = plt.figure(figsize=(6,4))\n",
    "\n",
    "    log_be = np.log10(bin_edges)\n",
    "    x = 10**((log_be[1:] + log_be[:-1])/2)\n",
    "    plt.loglog(x, density, marker='o', linestyle='none')\n",
    "    plt.xlabel(r\"degree $k$\", fontsize=16)\n",
    "    plt.ylabel(r\"$P(k)$\", fontsize=16)\n",
    "\n",
    "    ax = plt.gca()\n",
    "    ax.spines['right'].set_visible(False)\n",
    "    ax.spines['top'].set_visible(False)\n",
    "    ax.yaxis.set_ticks_position('left')\n",
    "    ax.xaxis.set_ticks_position('bottom')"
   ],
   "outputs": [],
   "execution_count": 8
  },
  {
   "cell_type": "code",
   "id": "c048e99c-3eef-49e0-8b76-4dd7a4104601",
   "metadata": {
    "ExecuteTime": {
     "end_time": "2025-04-06T04:02:21.901556Z",
     "start_time": "2025-04-06T04:02:14.315152Z"
    }
   },
   "source": [
    "edges_df = pd.read_csv('../data/gephi-edge-list.csv')\n",
    "nodes_df = pd.read_csv('../data/gephi-node-list.csv')\n",
    "\n",
    "G = nx.Graph() \n",
    "\n",
    "# Add nodes\n",
    "for _, row in nodes_df.iterrows():\n",
    "    node_id = row['ID']\n",
    "    attributes = row.drop('ID').to_dict()\n",
    "    G.add_node(node_id, **attributes)\n",
    "\n",
    "# Add the edges\n",
    "for _, row in edges_df.iterrows():\n",
    "    source = row['Source']\n",
    "    target = row['Target']\n",
    "    edge_attrs = row.drop(['Source', 'Target']).to_dict()\n",
    "    G.add_edge(source, target, **edge_attrs)    \n",
    "\n",
    "print(G.number_of_nodes())\n",
    "print(G.number_of_edges())"
   ],
   "outputs": [
    {
     "name": "stdout",
     "output_type": "stream",
     "text": [
      "1962\n",
      "42758\n"
     ]
    }
   ],
   "execution_count": 16
  },
  {
   "cell_type": "code",
   "id": "d0d65a33-b30a-4801-ae0a-a199ddd3ba34",
   "metadata": {
    "ExecuteTime": {
     "end_time": "2025-04-06T04:02:24.061635Z",
     "start_time": "2025-04-06T04:02:23.429081Z"
    }
   },
   "source": [
    "# Let's plot the degree distribution\n",
    "\n",
    "plot_degree_dist(G)"
   ],
   "outputs": [
    {
     "data": {
      "text/plain": [
       "<Figure size 600x400 with 1 Axes>"
      ],
      "image/png": "[encoded data removed]"
     },
     "metadata": {},
     "output_type": "display_data"
    }
   ],
   "execution_count": 17
  },
  {
   "cell_type": "code",
   "id": "fa44af8a-87c3-4954-bcc5-65095af47dfc",
   "metadata": {
    "ExecuteTime": {
     "end_time": "2025-04-06T04:03:59.035590Z",
     "start_time": "2025-04-06T04:03:58.290866Z"
    }
   },
   "source": [
    "C = np.mean(list(nx.clustering(G).values()))\n",
    "\n",
    "# --------- Shortest path currently disabled ------------\n",
    "# d = nx.average_shortest_path_length(G,weight=None)\n",
    "observed_weights = [d['Weight'] for u, v, d in G.edges(data=True)]\n",
    "\n",
    "print(\"Average Clustering Coefficient: \", C)\n",
    "# --------- Shortest path currently disabled ------------\n",
    "# print(\"Average Shortest Path: \", d)"
   ],
   "outputs": [
    {
     "name": "stdout",
     "output_type": "stream",
     "text": [
      "Average Clustering Coefficient:  0.633463339319892\n"
     ]
    }
   ],
   "execution_count": 20
  },
  {
   "cell_type": "markdown",
   "id": "3e102617-0bd0-4dd6-8ff7-1835d59b0f4b",
   "metadata": {},
   "source": [
    "# Comparing to an Erdös-Renyi graph of similar size"
   ]
  },
  {
   "cell_type": "code",
   "id": "ced5ab5f-fe10-4e5f-9195-d774c67746af",
   "metadata": {
    "ExecuteTime": {
     "end_time": "2025-04-06T04:04:08.532096Z",
     "start_time": "2025-04-06T04:04:07.872311Z"
    }
   },
   "source": [
    "GN = len(G.nodes()) # G.number_of_nodes()\n",
    "max_L = GN*(GN-1)/2\n",
    "actual_L = len(G.edges())\n",
    "p = actual_L/max_L\n",
    "\n",
    "ER = nx.erdos_renyi_graph(GN, p, directed=False)\n",
    "\n",
    "plot_degree_dist(ER)"
   ],
   "outputs": [
    {
     "data": {
      "text/plain": [
       "<Figure size 600x400 with 1 Axes>"
      ],
      "image/png": "[encoded data removed]"
     },
     "metadata": {},
     "output_type": "display_data"
    }
   ],
   "execution_count": 21
  },
  {
   "cell_type": "code",
   "id": "c478c7bb-7d69-4062-bcd7-ad077d3e336f",
   "metadata": {
    "ExecuteTime": {
     "end_time": "2025-04-06T04:11:04.642992Z",
     "start_time": "2025-04-06T04:10:02.290330Z"
    }
   },
   "source": [
    "clustering_ER = []\n",
    "short_path_ER = []\n",
    "avg_weighted_degree_ER = []  \n",
    "\n",
    "for i in range(100):\n",
    "    \n",
    "    ER = nx.erdos_renyi_graph(GN, p, directed=False)\n",
    "    C_ER = np.mean(list(nx.clustering(ER).values()))\n",
    "    \n",
    "    # --------- Shortest path currently disabled ------------\n",
    "    # if nx.is_connected(ER):\n",
    "    #     d_ER = nx.average_shortest_path_length(ER, weight=None)\n",
    "    \n",
    "    clustering_ER.append(C_ER)\n",
    "    \n",
    "    # --------- Shortest path currently disabled ------------\n",
    "    # short_path_ER.append(d_ER)\n",
    "    \n",
    "    for u, v in ER.edges():\n",
    "        ER[u][v]['weight'] = random.choice(observed_weights)\n",
    "    \n",
    "    # Now compute weighted degree for each node: sum of weights of all edges incident on the node\n",
    "    weighted_degrees = []\n",
    "    for node in ER.nodes():\n",
    "        # Sum the weights for all neighbors of the node\n",
    "        wd = sum(ER[node][nbr]['weight'] for nbr in ER.neighbors(node))\n",
    "        weighted_degrees.append(wd)\n",
    "    \n",
    "    # Compute the average weighted degree for this ER graph\n",
    "    avg_wd = np.mean(weighted_degrees)\n",
    "    avg_weighted_degree_ER.append(avg_wd)\n",
    "    \n",
    "print(np.mean(clustering_ER))\n",
    "print(np.std(clustering_ER))\n",
    "\n",
    "# --------- Shortest path currently disabled ------------\n",
    "# print(np.mean(short_path_ER))\n",
    "# print(np.std(short_path_ER))\n",
    "\n",
    "ensemble_data = {\n",
    "    'clustering_ER': clustering_ER,\n",
    "    'short_path_ER': short_path_ER,\n",
    "    'avg_weighted_degree_ER': avg_weighted_degree_ER\n",
    "}\n",
    "\n",
    "with open('null_model_ensemble_data.pkl', 'wb') as f:\n",
    "    pickle.dump(ensemble_data, f)"
   ],
   "outputs": [
    {
     "name": "stdout",
     "output_type": "stream",
     "text": [
      "0.022238657141383168\n",
      "0.00021054993301179625\n"
     ]
    }
   ],
   "execution_count": 24
  },
  {
   "cell_type": "code",
   "id": "4fa99bee-16e6-4039-992b-14ec23aab11e",
   "metadata": {
    "ExecuteTime": {
     "end_time": "2025-04-06T05:41:13.156471Z",
     "start_time": "2025-04-06T05:41:13.095006Z"
    }
   },
   "source": [
    "fig = plt.figure(figsize=(6,4))\n",
    "\n",
    "plt.boxplot(clustering_ER)\n",
    "plt.plot(2,C,'r',marker='+',markersize=15)\n",
    "ax = plt.gca()\n",
    "ax.set_xticks([1,2],labels=['ER','Players'])\n",
    "plt.ylabel('Clustering')\n",
    "plt.xlim([0.5,2.5])\n",
    "plt.show()"
   ],
   "outputs": [
    {
     "data": {
      "text/plain": [
       "<Figure size 600x400 with 1 Axes>"
      ],
      "image/png": "[encoded data removed]"
     },
     "metadata": {},
     "output_type": "display_data"
    }
   ],
   "execution_count": 26
  },
  {
   "metadata": {
    "ExecuteTime": {
     "end_time": "2025-04-06T05:40:57.899209Z",
     "start_time": "2025-04-06T05:40:57.779773Z"
    }
   },
   "cell_type": "code",
   "source": [
    "fig = plt.figure(figsize=(6,4))\n",
    "\n",
    "plt.boxplot(avg_weighted_degree_ER)\n",
    "plt.plot(2,C,'r',marker='+',markersize=15)\n",
    "ax = plt.gca()\n",
    "ax.set_xticks([1,2],labels=['ER','Players'])\n",
    "plt.ylabel('Average Weigted Degree')\n",
    "plt.xlim([0.5,2.5])\n",
    "plt.show()"
   ],
   "id": "588717c436b27702",
   "outputs": [
    {
     "data": {
      "text/plain": [
       "<Figure size 600x400 with 1 Axes>"
      ],
      "image/png": "[encoded data removed]"
     },
     "metadata": {},
     "output_type": "display_data"
    }
   ],
   "execution_count": 25
  },
  {
   "cell_type": "code",
   "execution_count": 10,
   "id": "ccc82fd1-3446-4d8e-a9d2-c29d7010e3e8",
   "metadata": {},
   "outputs": [
    {
     "ename": "NameError",
     "evalue": "name 'd' is not defined",
     "output_type": "error",
     "traceback": [
      "\u001B[0;31m---------------------------------------------------------------------------\u001B[0m",
      "\u001B[0;31mNameError\u001B[0m                                 Traceback (most recent call last)",
      "Cell \u001B[0;32mIn[10], line 4\u001B[0m\n\u001B[1;32m      1\u001B[0m fig \u001B[38;5;241m=\u001B[39m plt\u001B[38;5;241m.\u001B[39mfigure(figsize\u001B[38;5;241m=\u001B[39m(\u001B[38;5;241m6\u001B[39m,\u001B[38;5;241m4\u001B[39m))\n\u001B[1;32m      3\u001B[0m plt\u001B[38;5;241m.\u001B[39mboxplot(short_path_ER)\n\u001B[0;32m----> 4\u001B[0m plt\u001B[38;5;241m.\u001B[39mplot(\u001B[38;5;241m2\u001B[39m,d,\u001B[38;5;124m'\u001B[39m\u001B[38;5;124mr\u001B[39m\u001B[38;5;124m'\u001B[39m,marker\u001B[38;5;241m=\u001B[39m\u001B[38;5;124m'\u001B[39m\u001B[38;5;124m+\u001B[39m\u001B[38;5;124m'\u001B[39m,markersize\u001B[38;5;241m=\u001B[39m\u001B[38;5;241m15\u001B[39m)\n\u001B[1;32m      5\u001B[0m ax \u001B[38;5;241m=\u001B[39m plt\u001B[38;5;241m.\u001B[39mgca()\n\u001B[1;32m      6\u001B[0m ax\u001B[38;5;241m.\u001B[39mset_xticks([\u001B[38;5;241m1\u001B[39m,\u001B[38;5;241m2\u001B[39m],labels\u001B[38;5;241m=\u001B[39m[\u001B[38;5;124m'\u001B[39m\u001B[38;5;124mER\u001B[39m\u001B[38;5;124m'\u001B[39m,\u001B[38;5;124m'\u001B[39m\u001B[38;5;124mPlayers\u001B[39m\u001B[38;5;124m'\u001B[39m])\n",
      "\u001B[0;31mNameError\u001B[0m: name 'd' is not defined"
     ]
    }
   ],
   "source": [
    "# Cell currently broken: shortest path currently disabled\n",
    "fig = plt.figure(figsize=(6,4))\n",
    "\n",
    "plt.boxplot(short_path_ER)\n",
    "plt.plot(2,d,'r',marker='+',markersize=15)\n",
    "ax = plt.gca()\n",
    "ax.set_xticks([1,2],labels=['ER','Players'])\n",
    "plt.ylabel('Average shortest path')\n",
    "plt.xlim([0.5,2.5])\n",
    "plt.show()"
   ]
  },
  {
   "cell_type": "code",
   "execution_count": null,
   "id": "56f3c6a7-64b8-4cb6-89ee-543cca1b5a7b",
   "metadata": {},
   "outputs": [],
   "source": []
  }
 ],
 "metadata": {
  "kernelspec": {
   "display_name": "Python 3 (ipykernel)",
   "language": "python",
   "name": "python3"
  },
  "language_info": {
   "codemirror_mode": {
    "name": "ipython",
    "version": 3
   },
   "file_extension": ".py",
   "mimetype": "text/x-python",
   "name": "python",
   "nbconvert_exporter": "python",
   "pygments_lexer": "ipython3",
   "version": "3.12.9"
  }
 },
 "nbformat": 4,
 "nbformat_minor": 5
}
