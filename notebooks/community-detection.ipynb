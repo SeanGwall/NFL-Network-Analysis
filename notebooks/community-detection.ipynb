{
 "cells": [
  {
   "cell_type": "markdown",
   "id": "0a1fe1ba-3d4a-49ef-9a83-cc5bc14579e8",
   "metadata": {},
   "source": [
    "# Library Setup"
   ]
  },
  {
   "cell_type": "code",
   "execution_count": 1,
   "id": "20717f4f-433d-4078-9ae2-83e5ab5b6a93",
   "metadata": {},
   "outputs": [],
   "source": [
    "from collections import defaultdict\n",
    "import networkx as nx\n",
    "import matplotlib.pyplot as plt\n",
    "import pandas as pd"
   ]
  },
  {
   "cell_type": "markdown",
   "id": "960b8568-004b-4ab2-82c9-db85effe6640",
   "metadata": {},
   "source": [
    "# Data Import and Graph Creation"
   ]
  },
  {
   "cell_type": "code",
   "execution_count": 2,
   "id": "fb951a52-7377-48f8-a269-a2e10007933f",
   "metadata": {},
   "outputs": [],
   "source": [
    "edges_df = pd.read_csv('../data/gephi-edge-list.csv')\n",
    "nodes_df = pd.read_csv('../data/gephi-node-list.csv')\n",
    "\n",
    "G = nx.Graph() \n",
    "\n",
    "# Add nodes\n",
    "for _, row in nodes_df.iterrows():\n",
    "    node_id = row['ID']\n",
    "    attributes = row.drop('ID').to_dict()\n",
    "    G.add_node(node_id, **attributes)\n",
    "\n",
    "# Add edges with weights\n",
    "for _, row in edges_df.iterrows():\n",
    "    G.add_edge(row['Source'], row['Target'], weight=row['Weight'])"
   ]
  },
  {
   "cell_type": "code",
   "execution_count": 3,
   "id": "e9e18483-9cfe-4c16-af20-493a36eb0cee",
   "metadata": {},
   "outputs": [
    {
     "data": {
      "text/plain": [
       "False"
      ]
     },
     "execution_count": 3,
     "metadata": {},
     "output_type": "execute_result"
    }
   ],
   "source": [
    "nx.is_connected(G)"
   ]
  },
  {
   "cell_type": "code",
   "execution_count": 4,
   "id": "6ecfcd10-b97d-4c4d-8a90-e5a033f9ff1f",
   "metadata": {},
   "outputs": [
    {
     "data": {
      "text/plain": [
       "2"
      ]
     },
     "execution_count": 4,
     "metadata": {},
     "output_type": "execute_result"
    }
   ],
   "source": [
    "nx.number_connected_components(G)"
   ]
  },
  {
   "cell_type": "code",
   "execution_count": 5,
   "id": "216675fb-c07a-4db1-83fc-12dd8caebda2",
   "metadata": {},
   "outputs": [
    {
     "data": {
      "text/plain": [
       "<generator object connected_components at 0x122550940>"
      ]
     },
     "execution_count": 5,
     "metadata": {},
     "output_type": "execute_result"
    }
   ],
   "source": [
    "nx.connected_components(G)"
   ]
  },
  {
   "cell_type": "code",
   "execution_count": 6,
   "id": "8cb991b9-5eb8-42b5-a8c7-6a869114241c",
   "metadata": {},
   "outputs": [],
   "source": [
    "# Run community detection algorithms, add info to graph and export to gephi for visualization\n",
    "import networkx.algorithms.community as nxc\n",
    "\n",
    "# Greedy Modularity\n",
    "communities = nxc.greedy_modularity_communities(G, weight='Weight')\n",
    "\n",
    "# add community info to node attributes\n",
    "i = 0\n",
    "communities_dict = dict.fromkeys(G.nodes)\n",
    "for community in communities:\n",
    "    for player in community:\n",
    "        communities_dict[player] = i\n",
    "    i += 1\n",
    "\n",
    "nx.set_node_attributes(G, communities_dict, \"community\")"
   ]
  },
  {
   "cell_type": "code",
   "execution_count": 7,
   "id": "c9d973dd-0539-4680-96cf-6266e921cb3f",
   "metadata": {},
   "outputs": [
    {
     "name": "stdout",
     "output_type": "stream",
     "text": [
      "764\n",
      "642\n",
      "404\n",
      "71\n",
      "60\n",
      "20\n",
      "1\n"
     ]
    }
   ],
   "source": [
    "for community in communities:\n",
    "    print(len(community))"
   ]
  }
 ],
 "metadata": {
  "kernelspec": {
   "display_name": "Python 3 (ipykernel)",
   "language": "python",
   "name": "python3"
  },
  "language_info": {
   "codemirror_mode": {
    "name": "ipython",
    "version": 3
   },
   "file_extension": ".py",
   "mimetype": "text/x-python",
   "name": "python",
   "nbconvert_exporter": "python",
   "pygments_lexer": "ipython3",
   "version": "3.12.9"
  }
 },
 "nbformat": 4,
 "nbformat_minor": 5
}
