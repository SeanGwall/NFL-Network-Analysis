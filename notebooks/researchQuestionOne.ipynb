{
 "cells": [
  {
   "metadata": {},
   "cell_type": "markdown",
   "source": "# Library Setup",
   "id": "60ea72d051ec4c54"
  },
  {
   "cell_type": "code",
   "id": "initial_id",
   "metadata": {
    "collapsed": true,
    "ExecuteTime": {
     "end_time": "2025-04-06T04:08:33.556334Z",
     "start_time": "2025-04-06T04:08:33.552854Z"
    }
   },
   "source": [
    "import networkx as nx\n",
    "import numpy as np\n",
    "import matplotlib.pyplot as plt\n",
    "import pandas as pd\n",
    "import pickle\n",
    "from sklearn.preprocessing import LabelEncoder"
   ],
   "outputs": [],
   "execution_count": 31
  },
  {
   "metadata": {},
   "cell_type": "markdown",
   "source": "# Data Import and Graph Creation",
   "id": "ca88c1f1f740643d"
  },
  {
   "metadata": {
    "ExecuteTime": {
     "end_time": "2025-04-06T03:31:19.762445Z",
     "start_time": "2025-04-06T03:31:11.679877Z"
    }
   },
   "cell_type": "code",
   "source": [
    "edges_df = pd.read_csv('../data/gephi-edge-list.csv')\n",
    "nodes_df = pd.read_csv('../data/gephi-node-list.csv')\n",
    "\n",
    "# General NFL Graph\n",
    "G = nx.Graph() \n",
    "\n",
    "# nodes_df = nodes_df[nodes_df[\"fantasy_points\"] >= 100]\n",
    "\n",
    "# Add nodes\n",
    "for _, row in nodes_df.iterrows():\n",
    "    node_id = row['ID']\n",
    "    attributes = row.drop('ID').to_dict()\n",
    "    G.add_node(node_id, **attributes)\n",
    "\n",
    "# Add the edges\n",
    "for _, row in edges_df.iterrows():\n",
    "    source = row['Source']\n",
    "    target = row['Target']\n",
    "    edge_attrs = row.drop(['Source', 'Target']).to_dict()\n",
    "    G.add_edge(source, target, **edge_attrs)    \n",
    "\n",
    "# Teammates from the same college conference graph\n",
    "# Map player ID to college conference\n",
    "player_to_college_conference = nodes_df.set_index('ID')['college_conference'].to_dict()\n",
    "\n",
    "# Filter edges where both players attended the same college\n",
    "same_college_conference_edges = []\n",
    "for u, v, d in G.edges(data=True):\n",
    "    college_conference_u = player_to_college_conference.get(u)\n",
    "    college_conference_v = player_to_college_conference.get(v)\n",
    "    \n",
    "    if college_conference_u and college_conference_v and college_conference_u == college_conference_v:\n",
    "        same_college_conference_edges.append((u, v, d['Weight']))\n",
    "        \n",
    "GCC = nx.Graph()\n",
    "GCC.add_weighted_edges_from(same_college_conference_edges)\n",
    "    \n",
    "# Teammates from the same college graph\n",
    "# Map player ID to college\n",
    "player_to_college = nodes_df.set_index('ID')['college_name'].to_dict()\n",
    "\n",
    "# Filter edges where both players attended the same college\n",
    "same_college_edges = []\n",
    "for u, v, d in G.edges(data=True):\n",
    "    college_u = player_to_college.get(u)\n",
    "    college_v = player_to_college.get(v)\n",
    "    \n",
    "    if college_u and college_v and college_u == college_v:\n",
    "        same_college_edges.append((u, v, d['Weight']))\n",
    "        \n",
    "GC = nx.Graph()\n",
    "GC.add_weighted_edges_from(same_college_edges)\n",
    "    "
   ],
   "id": "7fd9e323e6a830f6",
   "outputs": [],
   "execution_count": 19
  },
  {
   "metadata": {},
   "cell_type": "markdown",
   "source": "# Computing Average and Weighted Degrees\n",
   "id": "81f87f8912d1cab3"
  },
  {
   "metadata": {
    "ExecuteTime": {
     "end_time": "2025-04-06T03:31:19.799988Z",
     "start_time": "2025-04-06T03:31:19.772953Z"
    }
   },
   "cell_type": "code",
   "source": [
    "# Full network\n",
    "full_degrees = [deg for _, deg in G.degree(weight='weight')]\n",
    "avg_full = sum(full_degrees) / len(full_degrees)\n",
    "\n",
    "# Same-college subgraph\n",
    "college_degrees = [deg for _, deg in GC.degree(weight='weight')]\n",
    "avg_college = sum(college_degrees) / len(college_degrees)\n",
    "\n",
    "print(f\"Average weighted degree (full network): {avg_full:.2f}\")\n",
    "print(f\"Average weighted degree (same-college conference teammates): {avg_college_conference:.2f}\")\n",
    "print(f\"Average weighted degree (same-college teammates): {avg_college:.2f}\")"
   ],
   "id": "fa1c4a4f52d285f9",
   "outputs": [
    {
     "name": "stdout",
     "output_type": "stream",
     "text": [
      "Average weighted degree (full network): 43.59\n",
      "Average weighted degree (same-college conference teammates): 563.59\n",
      "Average weighted degree (same-college teammates): 191.49\n"
     ]
    }
   ],
   "execution_count": 20
  },
  {
   "metadata": {},
   "cell_type": "markdown",
   "source": "# Statistical Significance",
   "id": "4ff0eff2eaeecead"
  },
  {
   "metadata": {
    "ExecuteTime": {
     "end_time": "2025-04-06T04:18:01.245929Z",
     "start_time": "2025-04-06T04:18:01.148132Z"
    }
   },
   "cell_type": "code",
   "source": [
    "# Function to compute average weighted degree in the same-college subgraph\n",
    "def avg_weighted_degree_same_college(graph):\n",
    "    same_college_edges = [\n",
    "        (u, v, d['Weight'])\n",
    "        for u, v, d in graph.edges(data=True)\n",
    "        if graph.nodes[u].get('college') == graph.nodes[v].get('college')\n",
    "    ]\n",
    "    if not same_college_edges:\n",
    "        return 0\n",
    "    subG = nx.Graph()\n",
    "    subG.add_weighted_edges_from(same_college_edges)\n",
    "    deg_values = list(dict(subG.degree(weight='weight')).values())\n",
    "    return np.mean(deg_values) if deg_values else 0\n",
    "\n",
    "# Observed metric from your actual network\n",
    "obs_avg = avg_weighted_degree_same_college(G)\n",
    "print(\"Observed avg weighted degree in same-college subgraph: {:.3f}\".format(obs_avg))\n",
    "\n",
    "# Load an ensemble of ER graphs; only need the avg_weighted_degree_ER here\n",
    "with open('null_model_ensemble_data.pkl', 'rb') as f:\n",
    "    loaded_ensemble_data = pickle.load(f)\n",
    "avg_weighted_degree_ER = loaded_ensemble_data['avg_weighted_degree_ER']\n",
    "\n",
    "mean_ER = np.mean(avg_weighted_degree_ER)\n",
    "std_ER = np.std(avg_weighted_degree_ER)\n",
    "\n",
    "print(\"ER null model mean: {:.3f}\".format(mean_ER))\n",
    "print(\"ER null model std: {:.3f}\".format(std_ER))\n"
   ],
   "id": "9e12cc176ec16da1",
   "outputs": [
    {
     "name": "stdout",
     "output_type": "stream",
     "text": [
      "Observed avg weighted degree in same-college subgraph: 4430.556\n",
      "ER null model mean: 4433.034\n",
      "ER null model std: 27.469\n"
     ]
    }
   ],
   "execution_count": 37
  },
  {
   "metadata": {
    "ExecuteTime": {
     "end_time": "2025-04-06T04:18:03.357868Z",
     "start_time": "2025-04-06T04:18:03.353356Z"
    }
   },
   "cell_type": "code",
   "source": [
    "p_value = np.mean([m >= obs_avg for m in avg_weighted_degree_ER])\n",
    "print(\"p-value:\", p_value)"
   ],
   "id": "cf802dbe694ea13d",
   "outputs": [
    {
     "name": "stdout",
     "output_type": "stream",
     "text": [
      "p-value: 0.53\n"
     ]
    }
   ],
   "execution_count": 38
  },
  {
   "metadata": {
    "ExecuteTime": {
     "end_time": "2025-04-06T03:32:00.214144Z",
     "start_time": "2025-04-06T03:31:28.812616Z"
    }
   },
   "cell_type": "code",
   "source": [
    "import random\n",
    "\n",
    "num_trials = 1000\n",
    "num_edges = GC.number_of_edges()\n",
    "avg_random_degrees = []\n",
    "\n",
    "nodes = list(G.nodes())\n",
    "\n",
    "for _ in range(1000):\n",
    "    random_edges = set()\n",
    "    while len(random_edges) < num_edges:\n",
    "        u, v = random.sample(nodes, 2)\n",
    "        if G.has_edge(u, v):\n",
    "            random_edges.add((u, v))\n",
    "    \n",
    "    G_random = nx.Graph()\n",
    "    for u, v in random_edges:\n",
    "        weight = G[u][v]['Weight']\n",
    "        G_random.add_edge(u, v, weight=weight)\n",
    "    \n",
    "    degrees = [deg for _, deg in G_random.degree(weight='Weight')]\n",
    "    avg_random_degrees.append(sum(degrees) / len(degrees))\n",
    "\n",
    "# Actual value\n",
    "actual_avg = sum([deg for _, deg in GC.degree(weight='Weight')]) / len(GC)\n",
    "\n",
    "# Proportion of random averages >= actual\n",
    "p_value = sum(x >= actual_avg for x in avg_random_degrees) / num_trials\n",
    "print(f\"Empirical p-value: {p_value:.4f}\")"
   ],
   "id": "5590950d18bdd209",
   "outputs": [
    {
     "name": "stdout",
     "output_type": "stream",
     "text": [
      "Empirical p-value: 0.0000\n"
     ]
    }
   ],
   "execution_count": 22
  }
 ],
 "metadata": {
  "kernelspec": {
   "display_name": "Python 3",
   "language": "python",
   "name": "python3"
  },
  "language_info": {
   "codemirror_mode": {
    "name": "ipython",
    "version": 2
   },
   "file_extension": ".py",
   "mimetype": "text/x-python",
   "name": "python",
   "nbconvert_exporter": "python",
   "pygments_lexer": "ipython2",
   "version": "2.7.6"
  }
 },
 "nbformat": 4,
 "nbformat_minor": 5
}
