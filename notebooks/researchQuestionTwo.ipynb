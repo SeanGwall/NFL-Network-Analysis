{
 "cells": [
  {
   "cell_type": "code",
   "execution_count": 9,
   "id": "3d3d4b8a",
   "metadata": {},
   "outputs": [],
   "source": [
    "# Import the required libraries\n",
    "import pandas as pd\n",
    "import networkx as nx"
   ]
  },
  {
   "cell_type": "code",
   "execution_count": 10,
   "id": "ee716eeb",
   "metadata": {
    "scrolled": true
   },
   "outputs": [],
   "source": [
    "edges_df = pd.read_csv('../data/gephi-edge-list.csv')\n",
    "nodes_df = pd.read_csv('../data/gephi-node-list.csv')"
   ]
  },
  {
   "cell_type": "code",
   "execution_count": 11,
   "id": "92ea2619",
   "metadata": {},
   "outputs": [],
   "source": [
    "# Create a mapping from ID to name\n",
    "id_to_name = dict(zip(nodes_df['ID'], nodes_df['name']))\n",
    "\n",
    "# Initialize graph\n",
    "G = nx.Graph()\n",
    "\n",
    "# Add nodes with names as attributes\n",
    "for _, row in nodes_df.iterrows():\n",
    "    G.add_node(row['ID'], name=row['name'])\n",
    "\n",
    "# Add edges with weights\n",
    "for _, row in edges_df.iterrows():\n",
    "    G.add_edge(row['Source'], row['Target'], weight=row['Weight'])"
   ]
  },
  {
   "cell_type": "code",
   "execution_count": 12,
   "id": "819c3f1a",
   "metadata": {},
   "outputs": [
    {
     "name": "stdout",
     "output_type": "stream",
     "text": [
      "                Node  Sum of Neighbor's Edge Weights\n",
      "0     Adam Vinatieri                    48262.125519\n",
      "1       Jason Peters                        0.000000\n",
      "2     Terence Newman                    24527.738000\n",
      "3      DeAngelo Hall                     6889.435667\n",
      "4       Robbie Gould                     8893.807460\n",
      "...              ...                             ...\n",
      "1951   Michael Penix                    75897.802000\n",
      "1952  Caleb Williams                    95249.109286\n",
      "1953     Rome Odunze                    95249.109286\n",
      "1954  Malachi Corley                   101174.800154\n",
      "1955     Trey Benson                    71622.545000\n",
      "\n",
      "[1956 rows x 2 columns]\n"
     ]
    }
   ],
   "source": [
    "# Compute sum of neighbor edge weights (and use names in output)\n",
    "sum_neighbor_weights = {}\n",
    "\n",
    "for node_id in G.nodes():\n",
    "    neighbors = list(G.neighbors(node_id))\n",
    "    seen_edges = set()  # To avoid double-counting undirected edges\n",
    "    total = 0\n",
    "    \n",
    "    for neighbor in neighbors:\n",
    "        for nbr_of_neighbor in G.neighbors(neighbor):\n",
    "            edge = tuple(sorted([neighbor, nbr_of_neighbor]))\n",
    "            if edge not in seen_edges:\n",
    "                total += G[neighbor][nbr_of_neighbor]['weight']\n",
    "                seen_edges.add(edge)\n",
    "    \n",
    "    node_name = G.nodes[node_id]['name']\n",
    "    sum_neighbor_weights[node_name] = total\n",
    "\n",
    "# Convert to DataFrame\n",
    "df = pd.DataFrame(sum_neighbor_weights.items(), columns=[\"Node\", \"Sum of Neighbor's Edge Weights\"])\n",
    "print(df)"
   ]
  },
  {
   "cell_type": "code",
   "execution_count": null,
   "id": "d44d8ac8",
   "metadata": {},
   "outputs": [],
   "source": []
  },
  {
   "cell_type": "code",
   "execution_count": null,
   "id": "555cf211",
   "metadata": {},
   "outputs": [],
   "source": []
  }
 ],
 "metadata": {
  "kernelspec": {
   "display_name": "Python 3 (ipykernel)",
   "language": "python",
   "name": "python3"
  },
  "language_info": {
   "codemirror_mode": {
    "name": "ipython",
    "version": 3
   },
   "file_extension": ".py",
   "mimetype": "text/x-python",
   "name": "python",
   "nbconvert_exporter": "python",
   "pygments_lexer": "ipython3",
   "version": "3.10.9"
  }
 },
 "nbformat": 4,
 "nbformat_minor": 5
}
