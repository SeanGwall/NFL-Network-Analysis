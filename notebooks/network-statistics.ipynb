{
 "cells": [
  {
   "cell_type": "markdown",
   "id": "39dbc959-d45f-4043-a429-53805a7a8e5d",
   "metadata": {},
   "source": [
    "# Library Setup"
   ]
  },
  {
   "cell_type": "code",
   "execution_count": 1,
   "id": "1096a1e1-7293-405b-8718-0b376589ca70",
   "metadata": {},
   "outputs": [],
   "source": [
    "from collections import defaultdict\n",
    "import networkx as nx\n",
    "import matplotlib.pyplot as plt\n",
    "import pandas as pd\n",
    "import numpy as np"
   ]
  },
  {
   "cell_type": "markdown",
   "id": "6f3bc260-dd4e-4110-857f-0e34061bea07",
   "metadata": {},
   "source": [
    "# Data Import and Graph Creation"
   ]
  },
  {
   "cell_type": "code",
   "execution_count": 2,
   "id": "54e94bff-dfcd-42cf-8977-f4a11783dfe0",
   "metadata": {},
   "outputs": [],
   "source": [
    "edges_df = pd.read_csv('../data/gephi-edge-list.csv')\n",
    "nodes_df = pd.read_csv('../data/gephi-node-list.csv')\n",
    "\n",
    "G = nx.Graph() \n",
    "\n",
    "# Add nodes\n",
    "for _, row in nodes_df.iterrows():\n",
    "    node_id = row['ID']\n",
    "    attributes = row.drop('ID').to_dict()\n",
    "    G.add_node(node_id, **attributes)\n",
    "\n",
    "# Add edges with weights\n",
    "for _, row in edges_df.iterrows():\n",
    "    G.add_edge(row['Source'], row['Target'], weight=row['Weight'])"
   ]
  },
  {
   "cell_type": "markdown",
   "id": "77112619-48e8-4897-8a5a-ff2918535291",
   "metadata": {},
   "source": [
    "# Statistics"
   ]
  },
  {
   "cell_type": "code",
   "execution_count": 3,
   "id": "41b804ac-08fc-4399-8f60-df041747a8fd",
   "metadata": {},
   "outputs": [
    {
     "data": {
      "text/plain": [
       "1962"
      ]
     },
     "execution_count": 3,
     "metadata": {},
     "output_type": "execute_result"
    }
   ],
   "source": [
    "# Number of Nodes\n",
    "nx.number_of_nodes(G)"
   ]
  },
  {
   "cell_type": "code",
   "execution_count": 4,
   "id": "1e6385ee-24ed-42b4-951a-b5126fbc2930",
   "metadata": {},
   "outputs": [
    {
     "data": {
      "text/plain": [
       "42758"
      ]
     },
     "execution_count": 4,
     "metadata": {},
     "output_type": "execute_result"
    }
   ],
   "source": [
    "# Number of Edges\n",
    "nx.number_of_edges(G)"
   ]
  },
  {
   "cell_type": "code",
   "execution_count": 5,
   "id": "4fb767d5-415d-4524-9964-a8b70b04f374",
   "metadata": {},
   "outputs": [
    {
     "data": {
      "text/plain": [
       "2"
      ]
     },
     "execution_count": 5,
     "metadata": {},
     "output_type": "execute_result"
    }
   ],
   "source": [
    "# Number of Components\n",
    "nx.number_connected_components(G)"
   ]
  },
  {
   "cell_type": "code",
   "execution_count": 6,
   "id": "6fe43bd3-4fe3-448d-ae6d-fda3159d8e46",
   "metadata": {},
   "outputs": [
    {
     "data": {
      "text/plain": [
       "0.633463339319892"
      ]
     },
     "execution_count": 6,
     "metadata": {},
     "output_type": "execute_result"
    }
   ],
   "source": [
    "# Clustering Coefficient\n",
    "np.mean(list(nx.clustering(G).values()))"
   ]
  },
  {
   "cell_type": "code",
   "execution_count": 7,
   "id": "c11d7846-d276-4bd8-b80b-7afd32415b4f",
   "metadata": {},
   "outputs": [
    {
     "data": {
      "text/plain": [
       "2.562129900404833"
      ]
     },
     "execution_count": 7,
     "metadata": {},
     "output_type": "execute_result"
    }
   ],
   "source": [
    "# Shortest Path Length (Of Largest Component)\n",
    "Gcc = sorted(nx.connected_components(G), key=len, reverse=True)\n",
    "Largest_G = G.subgraph(Gcc[0])\n",
    "\n",
    "nx.average_shortest_path_length(Largest_G,weight=None)"
   ]
  },
  {
   "cell_type": "code",
   "execution_count": 11,
   "id": "157f992c-e753-4021-af40-5295975add21",
   "metadata": {},
   "outputs": [
    {
     "data": {
      "text/plain": [
       "1961"
      ]
     },
     "execution_count": 11,
     "metadata": {},
     "output_type": "execute_result"
    }
   ],
   "source": [
    "nx.number_of_nodes(Largest_G)"
   ]
  },
  {
   "cell_type": "markdown",
   "id": "fa3042ae-7f6d-48a0-ae44-5f6316984177",
   "metadata": {},
   "source": [
    "# Degree Distribution"
   ]
  },
  {
   "cell_type": "code",
   "execution_count": 8,
   "id": "b31e6a4f-a717-47f3-9353-31d7689e70dd",
   "metadata": {},
   "outputs": [],
   "source": [
    "N = len(G)\n",
    "L = G.size()\n",
    "degrees = [G.degree(node) for node in G]\n",
    "kmin = min(degrees) + 1\n",
    "kmax = max(degrees)"
   ]
  },
  {
   "cell_type": "code",
   "execution_count": 10,
   "id": "2b91f949-41e8-43ef-abf7-daeef7ebff43",
   "metadata": {},
   "outputs": [
    {
     "data": {
      "text/plain": [
       "43.586136595310904"
      ]
     },
     "execution_count": 10,
     "metadata": {},
     "output_type": "execute_result"
    }
   ],
   "source": [
    "# Mean Degree\n",
    "np.average(degrees)"
   ]
  },
  {
   "cell_type": "markdown",
   "id": "ba11cad0-087f-4454-a0d6-50367def203c",
   "metadata": {},
   "source": [
    "### Log Scale"
   ]
  },
  {
   "cell_type": "code",
   "execution_count": 25,
   "id": "39a9308c-4efa-47be-a2ec-c0b48d996526",
   "metadata": {},
   "outputs": [],
   "source": [
    "# Get 10 logarithmically spaced bins between kmin and kmax\n",
    "bin_edges = np.logspace(np.log10(kmin), np.log10(kmax), num=10)\n",
    "\n",
    "# histogram the data into these bins\n",
    "density, _ = np.histogram(degrees, bins=bin_edges, density=True)"
   ]
  },
  {
   "cell_type": "code",
   "execution_count": 26,
   "id": "8a0e4393-fdd5-4f0b-8951-b6ba1f98cb13",
   "metadata": {},
   "outputs": [
    {
     "data": {
      "image/png": "[encoded data removed]",
      "text/plain": [
       "<Figure size 600x400 with 1 Axes>"
      ]
     },
     "metadata": {},
     "output_type": "display_data"
    }
   ],
   "source": [
    "fig = plt.figure(figsize=(6,4))\n",
    "\n",
    "# \"x\" should be midpoint (IN LOG SPACE) of each bin\n",
    "log_be = np.log10(bin_edges)\n",
    "x = 10**((log_be[1:] + log_be[:-1])/2)\n",
    "\n",
    "plt.loglog(x, density, marker='o', linestyle='none')\n",
    "plt.xlabel(r\"degree $k$\", fontsize=16)\n",
    "plt.ylabel(r\"$P(k)$\", fontsize=16)\n",
    "plt.title('Degree Distribution: Log Scale')\n",
    "\n",
    "# remove right and top boundaries because they're ugly\n",
    "ax = plt.gca()\n",
    "ax.spines['right'].set_visible(False)\n",
    "ax.spines['top'].set_visible(False)\n",
    "ax.yaxis.set_ticks_position('left')\n",
    "ax.xaxis.set_ticks_position('bottom')\n",
    "\n",
    "# Show the plot\n",
    "plt.show()"
   ]
  },
  {
   "cell_type": "markdown",
   "id": "01876404-3480-4ad2-ac79-d46eabb06035",
   "metadata": {},
   "source": [
    "### Linear-Linear Scale"
   ]
  },
  {
   "cell_type": "code",
   "execution_count": 27,
   "id": "0266c4b1-2f49-41ef-a27b-9895be231574",
   "metadata": {},
   "outputs": [],
   "source": [
    "# Get 20 logarithmically spaced bins between kmin and kmax\n",
    "bin_edges = np.linspace(kmin, kmax, num=10)\n",
    "\n",
    "# histogram the data into these bins\n",
    "density, _ = np.histogram(degrees, bins=bin_edges, density=True)"
   ]
  },
  {
   "cell_type": "code",
   "execution_count": 28,
   "id": "75a8dc78-7fd7-4105-b27d-a3c5fc3da70a",
   "metadata": {},
   "outputs": [
    {
     "data": {
      "image/png": "[encoded data removed]",
      "text/plain": [
       "<Figure size 600x400 with 1 Axes>"
      ]
     },
     "metadata": {},
     "output_type": "display_data"
    }
   ],
   "source": [
    "fig = plt.figure(figsize=(6,4))\n",
    "\n",
    "# \"x\" should be midpoint (IN LOG SPACE) of each bin\n",
    "log_be = np.log10(bin_edges)\n",
    "x = 10**((log_be[1:] + log_be[:-1])/2)\n",
    "\n",
    "plt.plot(x, density, marker='o', linestyle='none')\n",
    "plt.xlabel(r\"degree $k$\", fontsize=16)\n",
    "plt.ylabel(r\"$P(k)$\", fontsize=16)\n",
    "plt.title('Degree Distribution: Linear-Linear Scale')\n",
    "\n",
    "# remove right and top boundaries because they're ugly\n",
    "ax = plt.gca()\n",
    "ax.spines['right'].set_visible(False)\n",
    "ax.spines['top'].set_visible(False)\n",
    "ax.yaxis.set_ticks_position('left')\n",
    "ax.xaxis.set_ticks_position('bottom')\n",
    "\n",
    "# Show the plot\n",
    "plt.show()"
   ]
  },
  {
   "cell_type": "code",
   "execution_count": null,
   "id": "daf99de4-efa6-4c0d-9b4b-e3c7ebebc6f9",
   "metadata": {},
   "outputs": [],
   "source": []
  }
 ],
 "metadata": {
  "kernelspec": {
   "display_name": "Python 3 (ipykernel)",
   "language": "python",
   "name": "python3"
  },
  "language_info": {
   "codemirror_mode": {
    "name": "ipython",
    "version": 3
   },
   "file_extension": ".py",
   "mimetype": "text/x-python",
   "name": "python",
   "nbconvert_exporter": "python",
   "pygments_lexer": "ipython3",
   "version": "3.12.9"
  }
 },
 "nbformat": 4,
 "nbformat_minor": 5
}
