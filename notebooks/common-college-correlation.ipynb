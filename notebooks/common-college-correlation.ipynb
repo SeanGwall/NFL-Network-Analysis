{
 "cells": [
  {
   "metadata": {},
   "cell_type": "markdown",
   "source": "# Library Setup",
   "id": "6f8f77e758aefe80"
  },
  {
   "cell_type": "code",
   "id": "initial_id",
   "metadata": {
    "collapsed": true,
    "ExecuteTime": {
     "end_time": "2025-04-05T04:25:37.087628Z",
     "start_time": "2025-04-05T04:25:36.190747Z"
    }
   },
   "source": [
    "from collections import defaultdict\n",
    "import networkx as nx\n",
    "import matplotlib.pyplot as plt\n",
    "import pandas as pd"
   ],
   "outputs": [],
   "execution_count": 1
  },
  {
   "metadata": {},
   "cell_type": "markdown",
   "source": "# Data Import and Graph Creation",
   "id": "c37ae893f6bdb9d0"
  },
  {
   "metadata": {},
   "cell_type": "code",
   "outputs": [],
   "execution_count": null,
   "source": [
    "edges_df = pd.read_csv('../data/gephi-edge-list.csv')\n",
    "nodes_df = pd.read_csv('../data/gephi-node-list.csv')\n",
    "\n",
    "G = nx.Graph() \n",
    "\n",
    "# Add nodes\n",
    "for _, row in nodes_df.iterrows():\n",
    "    node_id = row['ID']\n",
    "    attributes = row.drop('ID').to_dict()\n",
    "    G.add_node(node_id, **attributes)\n",
    "\n",
    "# Add the edges\n",
    "for _, row in edges_df.iterrows():\n",
    "    source = row['Source']\n",
    "    target = row['Target']\n",
    "    edge_attrs = row.drop(['Source', 'Target']).to_dict()\n",
    "    G.add_edge(source, target, **edge_attrs)    "
   ],
   "id": "89a3ab9bd0679a64"
  },
  {
   "metadata": {},
   "cell_type": "markdown",
   "source": "# Basic Statistics",
   "id": "1df3c0011adad213"
  },
  {
   "metadata": {},
   "cell_type": "code",
   "outputs": [],
   "execution_count": null,
   "source": [
    "degree = G.degree(weight=\"Weight\")\n",
    "for player_degree in degree:\n",
    "    ID = player_degree[0]\n",
    "    avg_weight = player_degree[1] / G.degree(ID)\n",
    "\n",
    "# Outgoing edge weight correlations\n",
    "print(nodes_df.corr(numeric_only=True))\n",
    "nodes_df.corr(numeric_only=True, method='spearman').to_csv(\n",
    "    \"../../data/final/defense_correlations.csv\")"
   ],
   "id": "9e104efe5995426b"
  }
 ],
 "metadata": {
  "kernelspec": {
   "display_name": "Python 3",
   "language": "python",
   "name": "python3"
  },
  "language_info": {
   "codemirror_mode": {
    "name": "ipython",
    "version": 2
   },
   "file_extension": ".py",
   "mimetype": "text/x-python",
   "name": "python",
   "nbconvert_exporter": "python",
   "pygments_lexer": "ipython2",
   "version": "2.7.6"
  }
 },
 "nbformat": 4,
 "nbformat_minor": 5
}
